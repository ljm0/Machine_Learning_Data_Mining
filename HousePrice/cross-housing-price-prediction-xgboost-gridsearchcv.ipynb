{
 "cells": [
  {
   "cell_type": "markdown",
   "metadata": {
    "_cell_guid": "8a5da39b-e0b4-4965-9dd9-159ea85c0b56",
    "_uuid": "ec4e5493623c0180f4df4806993eadd2a9b3e205"
   },
   "source": [
    "# Exploring the Data"
   ]
  },
  {
   "cell_type": "code",
   "execution_count": 3,
   "metadata": {
    "_cell_guid": "86b26423-563a-4fa1-a595-89e25ff93089",
    "_uuid": "1c728098629e1301643443b1341556a15c089b2b",
    "scrolled": false
   },
   "outputs": [
    {
     "data": {
      "text/html": [
       "<div>\n",
       "<style scoped>\n",
       "    .dataframe tbody tr th:only-of-type {\n",
       "        vertical-align: middle;\n",
       "    }\n",
       "\n",
       "    .dataframe tbody tr th {\n",
       "        vertical-align: top;\n",
       "    }\n",
       "\n",
       "    .dataframe thead th {\n",
       "        text-align: right;\n",
       "    }\n",
       "</style>\n",
       "<table border=\"1\" class=\"dataframe\">\n",
       "  <thead>\n",
       "    <tr style=\"text-align: right;\">\n",
       "      <th></th>\n",
       "      <th>Id</th>\n",
       "      <th>MSSubClass</th>\n",
       "      <th>MSZoning</th>\n",
       "      <th>LotFrontage</th>\n",
       "      <th>LotArea</th>\n",
       "      <th>Street</th>\n",
       "      <th>Alley</th>\n",
       "      <th>LotShape</th>\n",
       "      <th>LandContour</th>\n",
       "      <th>Utilities</th>\n",
       "      <th>...</th>\n",
       "      <th>PoolArea</th>\n",
       "      <th>PoolQC</th>\n",
       "      <th>Fence</th>\n",
       "      <th>MiscFeature</th>\n",
       "      <th>MiscVal</th>\n",
       "      <th>MoSold</th>\n",
       "      <th>YrSold</th>\n",
       "      <th>SaleType</th>\n",
       "      <th>SaleCondition</th>\n",
       "      <th>SalePrice</th>\n",
       "    </tr>\n",
       "  </thead>\n",
       "  <tbody>\n",
       "    <tr>\n",
       "      <th>0</th>\n",
       "      <td>1</td>\n",
       "      <td>60</td>\n",
       "      <td>RL</td>\n",
       "      <td>65.0</td>\n",
       "      <td>8450</td>\n",
       "      <td>Pave</td>\n",
       "      <td>NaN</td>\n",
       "      <td>Reg</td>\n",
       "      <td>Lvl</td>\n",
       "      <td>AllPub</td>\n",
       "      <td>...</td>\n",
       "      <td>0</td>\n",
       "      <td>NaN</td>\n",
       "      <td>NaN</td>\n",
       "      <td>NaN</td>\n",
       "      <td>0</td>\n",
       "      <td>2</td>\n",
       "      <td>2008</td>\n",
       "      <td>WD</td>\n",
       "      <td>Normal</td>\n",
       "      <td>208500</td>\n",
       "    </tr>\n",
       "    <tr>\n",
       "      <th>1</th>\n",
       "      <td>2</td>\n",
       "      <td>20</td>\n",
       "      <td>RL</td>\n",
       "      <td>80.0</td>\n",
       "      <td>9600</td>\n",
       "      <td>Pave</td>\n",
       "      <td>NaN</td>\n",
       "      <td>Reg</td>\n",
       "      <td>Lvl</td>\n",
       "      <td>AllPub</td>\n",
       "      <td>...</td>\n",
       "      <td>0</td>\n",
       "      <td>NaN</td>\n",
       "      <td>NaN</td>\n",
       "      <td>NaN</td>\n",
       "      <td>0</td>\n",
       "      <td>5</td>\n",
       "      <td>2007</td>\n",
       "      <td>WD</td>\n",
       "      <td>Normal</td>\n",
       "      <td>181500</td>\n",
       "    </tr>\n",
       "    <tr>\n",
       "      <th>2</th>\n",
       "      <td>3</td>\n",
       "      <td>60</td>\n",
       "      <td>RL</td>\n",
       "      <td>68.0</td>\n",
       "      <td>11250</td>\n",
       "      <td>Pave</td>\n",
       "      <td>NaN</td>\n",
       "      <td>IR1</td>\n",
       "      <td>Lvl</td>\n",
       "      <td>AllPub</td>\n",
       "      <td>...</td>\n",
       "      <td>0</td>\n",
       "      <td>NaN</td>\n",
       "      <td>NaN</td>\n",
       "      <td>NaN</td>\n",
       "      <td>0</td>\n",
       "      <td>9</td>\n",
       "      <td>2008</td>\n",
       "      <td>WD</td>\n",
       "      <td>Normal</td>\n",
       "      <td>223500</td>\n",
       "    </tr>\n",
       "    <tr>\n",
       "      <th>3</th>\n",
       "      <td>4</td>\n",
       "      <td>70</td>\n",
       "      <td>RL</td>\n",
       "      <td>60.0</td>\n",
       "      <td>9550</td>\n",
       "      <td>Pave</td>\n",
       "      <td>NaN</td>\n",
       "      <td>IR1</td>\n",
       "      <td>Lvl</td>\n",
       "      <td>AllPub</td>\n",
       "      <td>...</td>\n",
       "      <td>0</td>\n",
       "      <td>NaN</td>\n",
       "      <td>NaN</td>\n",
       "      <td>NaN</td>\n",
       "      <td>0</td>\n",
       "      <td>2</td>\n",
       "      <td>2006</td>\n",
       "      <td>WD</td>\n",
       "      <td>Abnorml</td>\n",
       "      <td>140000</td>\n",
       "    </tr>\n",
       "    <tr>\n",
       "      <th>4</th>\n",
       "      <td>5</td>\n",
       "      <td>60</td>\n",
       "      <td>RL</td>\n",
       "      <td>84.0</td>\n",
       "      <td>14260</td>\n",
       "      <td>Pave</td>\n",
       "      <td>NaN</td>\n",
       "      <td>IR1</td>\n",
       "      <td>Lvl</td>\n",
       "      <td>AllPub</td>\n",
       "      <td>...</td>\n",
       "      <td>0</td>\n",
       "      <td>NaN</td>\n",
       "      <td>NaN</td>\n",
       "      <td>NaN</td>\n",
       "      <td>0</td>\n",
       "      <td>12</td>\n",
       "      <td>2008</td>\n",
       "      <td>WD</td>\n",
       "      <td>Normal</td>\n",
       "      <td>250000</td>\n",
       "    </tr>\n",
       "  </tbody>\n",
       "</table>\n",
       "<p>5 rows × 81 columns</p>\n",
       "</div>"
      ],
      "text/plain": [
       "   Id  MSSubClass MSZoning  LotFrontage  LotArea Street Alley LotShape  \\\n",
       "0   1          60       RL         65.0     8450   Pave   NaN      Reg   \n",
       "1   2          20       RL         80.0     9600   Pave   NaN      Reg   \n",
       "2   3          60       RL         68.0    11250   Pave   NaN      IR1   \n",
       "3   4          70       RL         60.0     9550   Pave   NaN      IR1   \n",
       "4   5          60       RL         84.0    14260   Pave   NaN      IR1   \n",
       "\n",
       "  LandContour Utilities    ...     PoolArea PoolQC Fence MiscFeature MiscVal  \\\n",
       "0         Lvl    AllPub    ...            0    NaN   NaN         NaN       0   \n",
       "1         Lvl    AllPub    ...            0    NaN   NaN         NaN       0   \n",
       "2         Lvl    AllPub    ...            0    NaN   NaN         NaN       0   \n",
       "3         Lvl    AllPub    ...            0    NaN   NaN         NaN       0   \n",
       "4         Lvl    AllPub    ...            0    NaN   NaN         NaN       0   \n",
       "\n",
       "  MoSold YrSold  SaleType  SaleCondition  SalePrice  \n",
       "0      2   2008        WD         Normal     208500  \n",
       "1      5   2007        WD         Normal     181500  \n",
       "2      9   2008        WD         Normal     223500  \n",
       "3      2   2006        WD        Abnorml     140000  \n",
       "4     12   2008        WD         Normal     250000  \n",
       "\n",
       "[5 rows x 81 columns]"
      ]
     },
     "metadata": {},
     "output_type": "display_data"
    },
    {
     "name": "stdout",
     "output_type": "stream",
     "text": [
      "This dataset contains 1460 observations with 81 columns for each.\n"
     ]
    }
   ],
   "source": [
    "###########################################\n",
    "# Suppress matplotlib user warnings\n",
    "# Necessary for newer version of matplotlib\n",
    "import warnings\n",
    "warnings.filterwarnings(\"ignore\", category = UserWarning, module = \"matplotlib\")\n",
    "#\n",
    "# Display inline matplotlib plots with IPython\n",
    "from IPython import get_ipython\n",
    "get_ipython().run_line_magic('matplotlib', 'inline')\n",
    "###########################################\n",
    "\n",
    "# Import all of the libraries necessary for this project\n",
    "import pandas as pd # data processing, CSV file I/O (e.g. pd.read_csv)\n",
    "from xgboost import XGBRegressor\n",
    "#from xgboost import cv\n",
    "from sklearn.preprocessing import Imputer\n",
    "from sklearn.metrics import mean_absolute_error\n",
    "from sklearn.model_selection import train_test_split\n",
    "from sklearn.model_selection import cross_val_score\n",
    "from sklearn.pipeline import Pipeline\n",
    "\n",
    "# Import visualization libraries\n",
    "from IPython.display import display\n",
    "import matplotlib.pyplot as plt\n",
    "import seaborn as sns\n",
    "\n",
    "# Load the datasets\n",
    "# train_data = pd.read_csv('../input/train.csv')\n",
    "# test_data = pd.read_csv('../input/test.csv')\n",
    "\n",
    "train_data = pd.read_csv(\"D:/000_VU_Study/P5/DataMIning/Machine_Learning_Data_Mining/HousePrice/data/train.csv\")\n",
    "test_data = pd.read_csv(\"D:/000_VU_Study/P5/DataMIning/Machine_Learning_Data_Mining/HousePrice/data/test.csv\")\n",
    "\n",
    "# Success - Display the first 5 records\n",
    "display(train_data.head(n=5))\n",
    "# How many records and columns do we have?\n",
    "print(\"This dataset contains %d observations with %d columns for each.\" % train_data.shape)"
   ]
  },
  {
   "cell_type": "markdown",
   "metadata": {
    "_cell_guid": "db4cb007-0337-4825-a3c9-bd05c04cb972",
    "_uuid": "39d55b63bde33e893445e564dbf3433589a47345"
   },
   "source": [
    "# Features\n",
    "\n",
    "1. **SalePrice:** the property's sale price in dollars. This is the target variable that you're trying to predict.\n",
    "1. **MSSubClass:** The building class\n",
    "1. **MSZoning:** The general zoning classification\n",
    "1. **LotFrontage:** Linear feet of street connected to property\n",
    "1. **LotArea:** Lot size in square feet\n",
    "1. **Street:** Type of road access\n",
    "1. **Alley:** Type of alley access\n",
    "1. **LotShape:** General shape of property\n",
    "1. **LandContour:** Flatness of the property\n",
    "1. **Utilities:** Type of utilities available\n",
    "1. **LotConfig:** Lot configuration\n",
    "1. **LandSlope:** Slope of property\n",
    "1. **Neighborhood:** Physical locations within Ames city limits\n",
    "1. **Condition1:** Proximity to main road or railroad\n",
    "1. **Condition2:** Proximity to main road or railroad (if a second is present)\n",
    "1. **BldgType:** Type of dwelling\n",
    "1. **HouseStyle:** Style of dwelling\n",
    "1. **OverallQual:** Overall material and finish quality\n",
    "1. **OverallCond:** Overall condition rating\n",
    "1. **YearBuilt:** Original construction date\n",
    "1. **YearRemodAdd:** Remodel date\n",
    "1. **RoofStyle:** Type of roof\n",
    "1. **RoofMatl:** Roof material\n",
    "1. **Exterior1st:** Exterior covering on house\n",
    "1. **Exterior2nd:** Exterior covering on house (if more than one material)\n",
    "1. **MasVnrType:** Masonry veneer type\n",
    "1. **MasVnrArea:** Masonry veneer area in square feet\n",
    "1. **ExterQual:** Exterior material quality\n",
    "1. **ExterCond:** Present condition of the material on the exterior\n",
    "1. **Foundation:** Type of foundation\n",
    "1. **BsmtQual:** Height of the basement\n",
    "1. **BsmtCond:** General condition of the basement\n",
    "1. **BsmtExposure:** Walkout or garden level basement walls\n",
    "1. **BsmtFinType1:** Quality of basement finished area\n",
    "1. **BsmtFinSF1:** Type 1 finished square feet\n",
    "1. **BsmtFinType2:** Quality of second finished area (if present)\n",
    "1. **BsmtFinSF2:** Type 2 finished square feet\n",
    "1. **BsmtUnfSF:** Unfinished square feet of basement area\n",
    "1. **TotalBsmtSF:** Total square feet of basement area\n",
    "1. **Heating:** Type of heating\n",
    "1. **HeatingQC:** Heating quality and condition\n",
    "1. **CentralAir:** Central air conditioning\n",
    "1. **Electrical:** Electrical system\n",
    "1. **1stFlrSF:** First Floor square feet\n",
    "1. **2ndFlrSF:** Second floor square feet\n",
    "1. **LowQualFinSF:** Low quality finished square feet (all floors)\n",
    "1. **GrLivArea:** Above grade (ground) living area square feet\n",
    "1. **BsmtFullBath:** Basement full bathrooms\n",
    "1. **BsmtHalfBath:** Basement half bathrooms\n",
    "1. **FullBath:** Full bathrooms above grade\n",
    "1. **HalfBath:** Half baths above grade\n",
    "1. **Bedroom:** Number of bedrooms above basement level\n",
    "1. **Kitchen:** Number of kitchens\n",
    "1. **KitchenQual:** Kitchen quality\n",
    "1. **TotRmsAbvGrd:** Total rooms above grade (does not include bathrooms)\n",
    "1. **Functional:** Home functionality rating\n",
    "1. **Fireplaces:** Number of fireplaces\n",
    "1. **FireplaceQu:** Fireplace quality\n",
    "1. **GarageType:** Garage location\n",
    "1. **GarageYrBlt:** Year garage was built\n",
    "1. **GarageFinish:** Interior finish of the garage\n",
    "1. **GarageCars:** Size of garage in car capacity\n",
    "1. **GarageArea:** Size of garage in square feet\n",
    "1. **GarageQual:** Garage quality\n",
    "1. **GarageCond:** Garage condition\n",
    "1. **PavedDrive:** Paved driveway\n",
    "1. **WoodDeckSF:** Wood deck area in square feet\n",
    "1. **OpenPorchSF:** Open porch area in square feet\n",
    "1. **EnclosedPorch:** Enclosed porch area in square feet\n",
    "1. **3SsnPorch:** Three season porch area in square feet\n",
    "1. **ScreenPorch:** Screen porch area in square feet\n",
    "1. **PoolArea:** Pool area in square feet\n",
    "1. **PoolQC:** Pool quality\n",
    "1. **Fence:** Fence quality\n",
    "1. **MiscFeature:** Miscellaneous feature not covered in other categories\n",
    "1. **MiscVal:** $Value of miscellaneous feature\n",
    "1. **MoSold:** Month Sold\n",
    "1. **YrSold:** Year Sold\n",
    "1. **SaleType:** Type of sale\n",
    "1. **SaleCondition:** Condition of sale"
   ]
  },
  {
   "cell_type": "code",
   "execution_count": 6,
   "metadata": {
    "_cell_guid": "48c619c8-450c-48e0-b591-4e10a9973e20",
    "_uuid": "15a4633067f1bba76cc434c46d8bb42a33dbe234"
   },
   "outputs": [
    {
     "ename": "NameError",
     "evalue": "name 'plt' is not defined",
     "output_type": "error",
     "traceback": [
      "\u001b[1;31m---------------------------------------------------------------------------\u001b[0m",
      "\u001b[1;31mNameError\u001b[0m                                 Traceback (most recent call last)",
      "\u001b[1;32m<ipython-input-6-986da4c94e5c>\u001b[0m in \u001b[0;36m<module>\u001b[1;34m()\u001b[0m\n\u001b[0;32m      1\u001b[0m \u001b[1;31m# Let's quickly see if there are any correlations that stand out\u001b[0m\u001b[1;33m\u001b[0m\u001b[1;33m\u001b[0m\u001b[0m\n\u001b[1;32m----> 2\u001b[1;33m \u001b[0mf\u001b[0m\u001b[1;33m,\u001b[0m\u001b[0max\u001b[0m \u001b[1;33m=\u001b[0m \u001b[0mplt\u001b[0m\u001b[1;33m.\u001b[0m\u001b[0msubplots\u001b[0m\u001b[1;33m(\u001b[0m\u001b[0mfigsize\u001b[0m\u001b[1;33m=\u001b[0m\u001b[1;33m(\u001b[0m\u001b[1;36m18\u001b[0m\u001b[1;33m,\u001b[0m \u001b[1;36m18\u001b[0m\u001b[1;33m)\u001b[0m\u001b[1;33m)\u001b[0m\u001b[1;33m\u001b[0m\u001b[0m\n\u001b[0m\u001b[0;32m      3\u001b[0m \u001b[0msns\u001b[0m\u001b[1;33m.\u001b[0m\u001b[0mheatmap\u001b[0m\u001b[1;33m(\u001b[0m\u001b[0mtrain_data\u001b[0m\u001b[1;33m.\u001b[0m\u001b[0mcorr\u001b[0m\u001b[1;33m(\u001b[0m\u001b[1;33m)\u001b[0m\u001b[1;33m,\u001b[0m \u001b[0mannot\u001b[0m\u001b[1;33m=\u001b[0m\u001b[1;32mTrue\u001b[0m\u001b[1;33m,\u001b[0m \u001b[0mlinewidths\u001b[0m\u001b[1;33m=\u001b[0m\u001b[1;36m.25\u001b[0m\u001b[1;33m,\u001b[0m \u001b[0mfmt\u001b[0m\u001b[1;33m=\u001b[0m \u001b[1;34m'.1f'\u001b[0m\u001b[1;33m,\u001b[0m\u001b[0max\u001b[0m\u001b[1;33m=\u001b[0m\u001b[0max\u001b[0m\u001b[1;33m)\u001b[0m\u001b[1;33m\u001b[0m\u001b[0m\n\u001b[0;32m      4\u001b[0m \u001b[0mplt\u001b[0m\u001b[1;33m.\u001b[0m\u001b[0mshow\u001b[0m\u001b[1;33m(\u001b[0m\u001b[1;33m)\u001b[0m\u001b[1;33m\u001b[0m\u001b[0m\n",
      "\u001b[1;31mNameError\u001b[0m: name 'plt' is not defined"
     ]
    }
   ],
   "source": [
    "# Let's quickly see if there are any correlations that stand out\n",
    "f,ax = plt.subplots(figsize=(18, 18))\n",
    "sns.heatmap(train_data.corr(), annot=True, linewidths=.25, fmt= '.1f',ax=ax)\n",
    "plt.show()"
   ]
  },
  {
   "cell_type": "markdown",
   "metadata": {
    "_cell_guid": "d4a61156-7b84-410b-81bb-022e6fc575f3",
    "_uuid": "40eb6562b57efcdca9d113cca2c8d88169d342cf"
   },
   "source": [
    "In our correlation heatmap we are looking for values that highly correlate with `SalePrice` because we want to make sure there isn't a case of data leakage. We can see that `OverallQual` has the highest correlation at ~0.8 which makes sense because the quality of the house should correlate with its price."
   ]
  },
  {
   "cell_type": "code",
   "execution_count": null,
   "metadata": {
    "_cell_guid": "d7e96550-1161-4243-94c9-8e40f17a600e",
    "_uuid": "d69ac1056f444484ddf4172c15793bac61d16a43",
    "collapsed": true
   },
   "outputs": [],
   "source": [
    "# Plot columns with missing values to evaluate how many are missing\n",
    "train_data.isnull().sum().plot(kind='bar', figsize=(15, 10))\n",
    "plt.show()"
   ]
  },
  {
   "cell_type": "markdown",
   "metadata": {
    "_cell_guid": "de9a6afe-0936-4a57-bb86-dd4e53d71319",
    "_uuid": "480d090c3adc339034c27adeaed6db0330a8f02f"
   },
   "source": [
    "From our bar chart we observe that there are mostly missing values in columns `Alley`, `PoolQC`, `Fence` and `MiscFeature`. We will test removing these and imputing with flagging to see which method returns the best results. Sometimes knowing a feature is missing can be valuable."
   ]
  },
  {
   "cell_type": "code",
   "execution_count": null,
   "metadata": {
    "_cell_guid": "2b27e1c9-7ea4-4aa3-b45d-736b01aeae14",
    "_uuid": "26912ef010c1a3c26c2b66194c5a7b92cdcca1f1",
    "collapsed": true
   },
   "outputs": [],
   "source": [
    "# Let's have a look at some statistics\n",
    "display(train_data.describe())\n",
    "#display(train_data.columns)"
   ]
  },
  {
   "cell_type": "markdown",
   "metadata": {
    "_cell_guid": "9b9b2acb-e91c-4c97-b201-d6f73f60c709",
    "_uuid": "652baf9d8ddda66f0d618814fe9bf4a8d9530923"
   },
   "source": [
    "We can see that there are some outliers in our data which are significantly greater than a majority of the dataset. These might skew our analysis. Let's try seeing how these features are distributed."
   ]
  },
  {
   "cell_type": "code",
   "execution_count": null,
   "metadata": {
    "_cell_guid": "78bc8b46-5455-4721-a96f-b584fa0e48bf",
    "_uuid": "98fe77666ae229763296a1f51662abb7ff240275",
    "collapsed": true
   },
   "outputs": [],
   "source": [
    "def distribution(data, features = [], transformed = False):\n",
    "    \"\"\"\n",
    "    Visualization code for displaying distributions of features\n",
    "    \"\"\"\n",
    "    # Calculate number of rows needed for plots\n",
    "    if len(features) % 2 == 1:\n",
    "        rows = (len(features)-1)/2\n",
    "    elif len(features)==0:\n",
    "        data = data.dropna(axis=1)\n",
    "        features = data.columns\n",
    "        if len(features) % 2 == 1:\n",
    "            rows = (len(features)-1)/2\n",
    "        else:\n",
    "            rows = len(features)/2\n",
    "    else:\n",
    "        rows = len(features)/2\n",
    "\n",
    "    # Create figure\n",
    "    fig = plt.figure(figsize = (11,5*rows))\n",
    "\n",
    "    # Skewed feature plotting\n",
    "    for i, feature in enumerate(features):\n",
    "        ax = fig.add_subplot(rows, 2, i+1)\n",
    "        ax.hist(data[feature], bins = 25, color = '#00A0A0')\n",
    "        ax.set_title(\"'%s' Feature Distribution\"%(feature), fontsize = 14)\n",
    "        ax.set_xlabel(\"Value\")\n",
    "        ax.set_ylabel(\"Number of Records\")\n",
    "        #ax.set_ylim((0, 2000))\n",
    "        #ax.set_yticks([0, 500, 1000, 1500, 2000])\n",
    "        #ax.set_yticklabels([0, 500, 1000, 1500, \">2000\"])\n",
    "\n",
    "    # Plot aesthetics\n",
    "    if transformed:\n",
    "        fig.suptitle(\"Transformed Distributions of Data Features\", \\\n",
    "            fontsize = 16, y = 1.03)\n",
    "    else:\n",
    "        fig.suptitle(\"Distributions of Data Features\", \\\n",
    "            fontsize = 16, y = 1.03)\n",
    "\n",
    "    fig.tight_layout()\n",
    "    fig.show()"
   ]
  },
  {
   "cell_type": "code",
   "execution_count": null,
   "metadata": {
    "_cell_guid": "3f31f7a3-089a-46a2-93e0-982cc50781fa",
    "_uuid": "d5e101b992f4c94f62520779b0924bf77458e09b",
    "collapsed": true,
    "scrolled": true
   },
   "outputs": [],
   "source": [
    "#distribution(train_data)"
   ]
  },
  {
   "cell_type": "code",
   "execution_count": null,
   "metadata": {
    "_cell_guid": "fb58b9f9-668c-46b2-9d38-c23bf434be1b",
    "_uuid": "b7c4de4e8d4cfdc1656c609be7cad1f48347f08b",
    "collapsed": true
   },
   "outputs": [],
   "source": [
    "# TODO: apply a scaling function to skewed features"
   ]
  },
  {
   "cell_type": "markdown",
   "metadata": {
    "_cell_guid": "2a99d394-a51c-473e-a1e0-8db27982ab81",
    "_uuid": "8e5340e4d9e4450514baa5ab39d52788a22a08a4"
   },
   "source": [
    "## Preparing the Data"
   ]
  },
  {
   "cell_type": "markdown",
   "metadata": {
    "_cell_guid": "0e00a0b2-ac61-43d8-9ed5-16547081c93f",
    "_uuid": "be613cff3905981b0c5df44879c24c5e6849166e"
   },
   "source": [
    "We are going to compare a few preprocessing methods below and choose the one that gives us the best results. Best results here will be defined as the model that returns the lowest MAE."
   ]
  },
  {
   "cell_type": "code",
   "execution_count": null,
   "metadata": {
    "_cell_guid": "35f3cfda-33e2-4494-974f-e70da8c0524b",
    "_uuid": "759a6138f87cb30a67307a8a8ed99d48b74d921d"
   },
   "outputs": [],
   "source": [
    "y = train_data.SalePrice\n",
    "X_one_hot_encoded = pd.get_dummies(train_data).drop('SalePrice', axis=1)\n",
    "\n",
    "# Creating our pipelines to test different preprocessing techniques\n",
    "pipeline_one_hot_encoded = Pipeline([('imputer', Imputer()),\n",
    "                                     ('xgbrg', XGBRegressor())])\n",
    "\n",
    "# Comparing preprocessing techniques with cross validation\n",
    "mae_one_hot_encoded = cross_val_score(pipeline_one_hot_encoded, X_one_hot_encoded, y, scoring='neg_mean_absolute_error')\n",
    "print('CV Mean Absolute Error with One-Hot Encoding: %2f' %(-1 * mae_one_hot_encoded.mean()))\n",
    "\n",
    "# Using grid search cv\n",
    "from sklearn.model_selection import GridSearchCV\n",
    "\n",
    "pipeline_grid_search_cv = Pipeline([('imputer', Imputer()),\n",
    "                                    ('xgbrg', XGBRegressor())])\n",
    "params = {\"xgbrg__n_estimators\": [25, 50, 100, 150, 200, 300],\n",
    "         \"xgbrg__learning_rate\": [0.001, 0.01, 0.1, 1.0]} \n",
    "searchCV = GridSearchCV(pipeline_grid_search_cv, params, n_jobs=1, cv=5, refit=True)\n",
    "searchCV.fit(X_one_hot_encoded, y)\n",
    "final_pipeline = searchCV.best_estimator_\n",
    "\n",
    "#15917.110161\n",
    "mae_grid_search_cv = cross_val_score(final_pipeline, X_one_hot_encoded, y, scoring='neg_mean_absolute_error')\n",
    "print('CV Mean Absolute Error with GridSearchCV: %2f' %(-1 * mae_grid_search_cv.mean()))"
   ]
  },
  {
   "cell_type": "code",
   "execution_count": null,
   "metadata": {
    "_cell_guid": "6ba459a6-d24c-4b5e-a186-877555a53a5c",
    "_uuid": "fd015d0a9d7e2c01be17f7955395446afe491125",
    "collapsed": true
   },
   "outputs": [],
   "source": [
    "# TODO: Partial Dependence Plots"
   ]
  },
  {
   "cell_type": "markdown",
   "metadata": {
    "_cell_guid": "d7e1b978-778c-4c21-848c-181209420409",
    "_uuid": "96233584f0429eda5965c19667635dad4c5d7059"
   },
   "source": [
    "# Prediction"
   ]
  },
  {
   "cell_type": "code",
   "execution_count": null,
   "metadata": {
    "_cell_guid": "df5543ec-e0ae-4995-8cdc-0d1683ed813d",
    "_uuid": "66e0e769b03762d7cab026d6176c5589cef39d11",
    "collapsed": true,
    "scrolled": true
   },
   "outputs": [],
   "source": [
    "import copy\n",
    "# Read the test data\n",
    "ID = test_data.Id\n",
    "\n",
    "# Join the data and then do one hot encoding to get the same amount of features, then split again\n",
    "train_objs_num = len(train_data)\n",
    "dataset = pd.concat(objs=[train_data, test_data], axis=0)\n",
    "dataset = pd.get_dummies(dataset)\n",
    "train_data = copy.copy(dataset[:train_objs_num])\n",
    "test_data = copy.copy(dataset[train_objs_num:])\n",
    "test_data = test_data.drop('SalePrice', axis=1)\n",
    "\n",
    "#X_one_hot_encoded = train_data.drop('SalePrice', axis=1)\n",
    "#train_X_ohe,test_X_ohe,train_y_ohe,test_y_ohe = train_test_split(X_one_hot_encoded, y, test_size=0.25, random_state=1)\n",
    "#pipeline_grid_search_cv = make_pipeline(Imputer(),\n",
    "#                    GridSearchCV(XGBRegressor(),\n",
    "#                                 param_grid={'n_estimators': [50, 150]},\n",
    "#                                 cv=2,\n",
    "#                                 refit=True))\n",
    "#pipeline_grid_search_cv.fit(X_one_hot_encoded, train_data.SalePrice)\n",
    "\n",
    "# Use the model to make predictions\n",
    "predicted_prices = final_pipeline.predict(test_data)\n",
    "\n",
    "# We will look at the predicted prices to ensure we have something sensible.\n",
    "print(predicted_prices)"
   ]
  },
  {
   "cell_type": "code",
   "execution_count": null,
   "metadata": {
    "_cell_guid": "6fec7aec-720a-491e-ad09-5dacc3160d47",
    "_uuid": "5927871087abd5d2c82f8f7c12bcb53663e6d96f",
    "collapsed": true
   },
   "outputs": [],
   "source": [
    "my_submission = pd.DataFrame({'Id': ID, 'SalePrice': predicted_prices})\n",
    "\n",
    "# you could use any filename. We choose submission here\n",
    "my_submission.to_csv('submission.csv', index=False)\n"
   ]
  }
 ],
 "metadata": {
  "kernelspec": {
   "display_name": "Python 3",
   "language": "python",
   "name": "python3"
  },
  "language_info": {
   "codemirror_mode": {
    "name": "ipython",
    "version": 3
   },
   "file_extension": ".py",
   "mimetype": "text/x-python",
   "name": "python",
   "nbconvert_exporter": "python",
   "pygments_lexer": "ipython3",
   "version": "3.7.0"
  }
 },
 "nbformat": 4,
 "nbformat_minor": 1
}
